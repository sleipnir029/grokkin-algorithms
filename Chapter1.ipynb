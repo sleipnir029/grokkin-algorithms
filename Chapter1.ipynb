{
 "cells": [
  {
   "cell_type": "markdown",
   "metadata": {},
   "source": [
    "# *Introduction to algorithms*"
   ]
  },
  {
   "cell_type": "markdown",
   "metadata": {},
   "source": [
    "An algorithm is a set of instructions for accomplishing a task"
   ]
  },
  {
   "cell_type": "markdown",
   "metadata": {},
   "source": [
    "## Binary search | Random access"
   ]
  },
  {
   "cell_type": "markdown",
   "metadata": {},
   "source": [
    "Binary search is an algorithm; its input is a **sorted list** of elements. If an element you’re looking for is in that list, binary search returns the position where it’s located. Otherwise, binary search returns null."
   ]
  },
  {
   "cell_type": "markdown",
   "metadata": {},
   "source": [
    "With binary search, you guess the middle number and eliminate half the remaining numbers every time. In general, for any list of **N**, binary search will take **log2 N** steps to run in the worst case,\n",
    "whereas simple search will take **N** steps."
   ]
  },
  {
   "cell_type": "code",
   "execution_count": null,
   "metadata": {
    "scrolled": true
   },
   "outputs": [],
   "source": [
    "def binary_search(list, item):\n",
    "    low = 0\n",
    "    high = len(list) - 1\n",
    "    count = 0\n",
    "    print(\"Guessed number:\", item)\n",
    "    while low <= high:\n",
    "        mid = int((low + high) / 2)\n",
    "        guess = list[mid]\n",
    "        count += 1\n",
    "        print(\"Guess\", count, \"returned\", guess)\n",
    "        if guess == item:\n",
    "            return mid\n",
    "        if guess > item:\n",
    "            high = mid - 1\n",
    "        if guess < item:\n",
    "            low = mid + 1\n",
    "    return None\n",
    "\n",
    "mylist = [x for x in range(1024)]\n",
    "\n",
    "binary_search(mylist, 42)\n"
   ]
  },
  {
   "cell_type": "markdown",
   "metadata": {},
   "source": [
    "O(N) - Linear time\n",
    "\n",
    "O(log2 N) - Logarithmic time"
   ]
  },
  {
   "cell_type": "markdown",
   "metadata": {},
   "source": [
    "## Big O notation\n",
    "Algorithm running times grow at different rates.\n",
    "\n",
    "Big O notation tells you how fast an algorithm is. For example, suppose you have a list of size n. Simple search needs to check each element, so it will take n operations. The run time in Big O notation is O(n). Where\n",
    "are the seconds? There are none—Big O doesn’t tell you the speed in seconds. Big O notation lets you compare the number of operations. It tells you how fast the algorithm grows.\n",
    "\n",
    "**Big O notation is about the worst-case scenario.**"
   ]
  },
  {
   "cell_type": "markdown",
   "metadata": {},
   "source": [
    "## The travelling salespersson\n",
    "For **N** items (cities), it will take **N!** operations to compute the result. So this is **O(N!)** time, or *factorial time*. "
   ]
  },
  {
   "cell_type": "markdown",
   "metadata": {},
   "source": [
    "### Recap\n",
    "- Binary search is a lot faster than simple search.\n",
    "- O(log n) is faster than O(n), but it gets a lot faster once the list of items you’re searching through grows.\n",
    "- Algorithm speed isn’t measured in seconds.\n",
    "- Algorithm times are measured in terms of growth of an algorithm.\n",
    "- Algorithm times are written in Big O notation."
   ]
  },
  {
   "cell_type": "code",
   "execution_count": null,
   "metadata": {},
   "outputs": [],
   "source": []
  }
 ],
 "metadata": {
  "kernelspec": {
   "display_name": "Python 3.7.7 64-bit",
   "language": "python",
   "name": "python37764bit9edc02af26974466a9ebf92f16ee11a9"
  },
  "language_info": {
   "codemirror_mode": {
    "name": "ipython",
    "version": 3
   },
   "file_extension": ".py",
   "mimetype": "text/x-python",
   "name": "python",
   "nbconvert_exporter": "python",
   "pygments_lexer": "ipython3",
   "version": "3.7.7"
  }
 },
 "nbformat": 4,
 "nbformat_minor": 2
}
