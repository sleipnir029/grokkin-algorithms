{
 "cells": [
  {
   "cell_type": "markdown",
   "metadata": {},
   "source": [
    "# *Selection sort*"
   ]
  },
  {
   "cell_type": "markdown",
   "metadata": {},
   "source": [
    "## Arrays and linked lists\n",
    "Example given in the book\n",
    "- Friends watching movies in a theater and more friends come one after another.\n",
    "- Scummy websites"
   ]
  },
  {
   "cell_type": "markdown",
   "metadata": {},
   "source": [
    "## Arrays | Random access\n",
    "**Pros**\n",
    "- We can read any item of an array regardless of its position. We don't need to read elements before the certain item.\n",
    "\n",
    "**Cons**\n",
    "- To store an array we need the same number of slots *together* in the memory as the number of items in the array. If we add more items, we may have to from the previous slots of the memory to a new location as we may not have that many slots *together* in the memory as the number of items in the array"
   ]
  },
  {
   "cell_type": "markdown",
   "metadata": {},
   "source": [
    "## Linked lists | Sequential access\n",
    "**Pros**\n",
    "- We can store items in a linked list regardless of how many slots are available together in the memory. Items sit in a free slot and links the next one to the previous one\n",
    "\n",
    "**Cons**\n",
    "- We cannot read a specific item from the linked list without reading its predecessors, because previous item holds the key to the next item (first item has the memory address of the second item, second item has the memory address of the third item and so on)."
   ]
  },
  {
   "cell_type": "markdown",
   "metadata": {},
   "source": [
    "## Selection sort\n",
    "O(N^2) time"
   ]
  },
  {
   "cell_type": "code",
   "execution_count": null,
   "metadata": {},
   "outputs": [],
   "source": [
    "def findSmallest(arr):\n",
    "    smallest = arr[0]\n",
    "    smallest_index = 0\n",
    "    for i in range(1, len(arr)):\n",
    "        if arr[i] < smallest:\n",
    "            smallest = arr[i]\n",
    "            smallest_index = i\n",
    "    return smallest_index\n",
    "\n",
    "def selectionSort(arr):\n",
    "    newArr = []\n",
    "    for i in range(len(arr)):\n",
    "        smallest = findSmallest(arr)\n",
    "        newArr.append(arr.pop(smallest))\n",
    "    return newArr\n",
    "\n",
    "print(selectionSort([15, 3, 6, 2, 10, 5, 20, 7, 4, 8]))\n",
    "# Ascending order"
   ]
  },
  {
   "cell_type": "markdown",
   "metadata": {},
   "source": [
    "### Differences:\n",
    "> `newArr.append(arr.pop(smallest))` removes/pops the smallest value 2 by index from **arr** and appends to **newArr**. Now the previous second smallest value (3) will be the new smallest value in **arr**. Above line again removes it from **arr** and appends to **newArr** and the loop continues.\n",
    "\n",
    "> `newArr.append(arr[smallest])` appends the smallest value to **newArr**. But as the value (2) is never removed/popped from **arr**, this value (2) is always the smallest value. So every iteration of the loop returns index of (2) and appends (2) to **newArr**. Finally we get an array of just 2's."
   ]
  },
  {
   "cell_type": "markdown",
   "metadata": {},
   "source": [
    "## Recap\n",
    "- Your computer’s memory is like a giant set of drawers.\n",
    "- When you want to store multiple elements, use an array or a list.\n",
    "- With an array, all your elements are stored right next to each other.\n",
    "- With a list, elements are strewn all over, and one element stores the address of the next one.\n",
    "- Arrays allow fast reads.\n",
    "- Linked lists allow fast inserts and deletes.\n",
    "- All elements in the array should be the same type (all ints, all doubles, and so on)."
   ]
  },
  {
   "cell_type": "code",
   "execution_count": null,
   "metadata": {},
   "outputs": [],
   "source": []
  }
 ],
 "metadata": {
  "kernelspec": {
   "display_name": "Python 3.7.7 64-bit",
   "language": "python",
   "name": "python37764bit9edc02af26974466a9ebf92f16ee11a9"
  },
  "language_info": {
   "codemirror_mode": {
    "name": "ipython",
    "version": 3
   },
   "file_extension": ".py",
   "mimetype": "text/x-python",
   "name": "python",
   "nbconvert_exporter": "python",
   "pygments_lexer": "ipython3",
   "version": "3.7.7"
  }
 },
 "nbformat": 4,
 "nbformat_minor": 2
}
